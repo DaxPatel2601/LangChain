{
 "cells": [
  {
   "cell_type": "code",
   "execution_count": 41,
   "id": "99d9038a",
   "metadata": {},
   "outputs": [
    {
     "data": {
      "text/plain": [
       "True"
      ]
     },
     "execution_count": 41,
     "metadata": {},
     "output_type": "execute_result"
    }
   ],
   "source": [
    "from dotenv import load_dotenv\n",
    "\n",
    "load_dotenv()"
   ]
  },
  {
   "cell_type": "code",
   "execution_count": 42,
   "id": "3b1c3b9f",
   "metadata": {},
   "outputs": [],
   "source": [
    "from youtube_transcript_api import YouTubeTranscriptApi,TranscriptsDisabled\n",
    "from langchain.text_splitter import RecursiveCharacterTextSplitter\n",
    "from langchain_groq import ChatGroq\n",
    "from langchain_community.vectorstores import FAISS , pinecone\n",
    "from langchain_core.prompts import PromptTemplate\n",
    "from langchain_openai import OpenAIEmbeddings , ChatOpenAI\n",
    "from langchain_community.embeddings import HuggingFaceEmbeddings"
   ]
  },
  {
   "cell_type": "markdown",
   "id": "84ff1088",
   "metadata": {},
   "source": [
    "## step 1 : Indexing (Document Ingestion)"
   ]
  },
  {
   "cell_type": "code",
   "execution_count": 43,
   "id": "a8b5ba3e",
   "metadata": {},
   "outputs": [
    {
     "name": "stdout",
     "output_type": "stream",
     "text": [
      "Imagine you happen across a short movie script that describes a scene between a person and their AI assistant. The script has what the person asks the AI, but the AI's response has been torn off. Suppose you also have this powerful magical machine that can take any text and provide a sensible prediction of what word comes next. You could then finish the script by feeding in what you have to the machine, seeing what it would predict to start the AI's answer, and then repeating this over and over with a growing script completing the dialogue. When you interact with a chatbot, this is exactly what's happening. A large language model is a sophisticated mathematical function that predicts what word comes next for any piece of text. Instead of predicting one word with certainty, though, what it does is assign a probability to all possible next words. To build a chatbot, you lay out some text that describes an interaction between a user and a hypothetical AI assistant, add on whatever the user types in as the first part of the interaction, and then have the model repeatedly predict the next word that such a hypothetical AI assistant would say in response, and that's what's presented to the user. In doing this, the output tends to look a lot more natural if you allow it to select less likely words along the way at random. So what this means is even though the model itself is deterministic, a given prompt typically gives a different answer each time it's run. Models learn how to make these predictions by processing an enormous amount of text, typically pulled from the internet. For a standard human to read the amount of text that was used to train GPT-3, for example, if they read non-stop 24-7, it would take over 2600 years. Larger models since then train on much, much more. You can think of training a little bit like tuning the dials on a big machine. The way that a language model behaves is entirely determined by these many different continuous values, usually called parameters or weights. Changing those parameters will change the probabilities that the model gives for the next word on a given input. What puts the large in large language model is how they can have hundreds of billions of these parameters. No human ever deliberately sets those parameters. Instead, they begin at random, meaning the model just outputs gibberish, but they're repeatedly refined based on many example pieces of text. One of these training examples could be just a handful of words, or it could be thousands, but in either case, the way this works is to pass in all but the last word from that example into the model and compare the prediction that it makes with the true last word from the example. An algorithm called backpropagation is used to tweak all of the parameters in such a way that it makes the model a little more likely to choose the true last word and a little less likely to choose all the others. When you do this for many, many trillions of examples, not only does the model start to give more accurate predictions on the training data, but it also starts to make more reasonable predictions on text that it's never seen before. Given the huge number of parameters and the enormous amount of training data, the scale of computation involved in training a large language model is mind-boggling. To illustrate, imagine that you could perform one billion additions and multiplications every single second. How long do you think it would take for you to do all of the operations involved in training the largest language models? Do you think it would take a year? Maybe something like 10,000 years? The answer is actually much more than that. It's well over 100 million years. This is only part of the story, though. This whole process is called pre-training. The goal of auto-completing a random passage of text from the internet is very different from the goal of being a good AI assistant. To address this, chatbots undergo another type of training, just as important, called reinforcement learning with human feedback. Workers flag unhelpful or problematic predictions, and their corrections further change the model's parameters, making them more likely to give predictions that users prefer. Looking back at the pre-training, though, this staggering amount of computation is only made possible by using special computer chips that are optimized for running many operations in parallel, known as GPUs. However, not all language models can be easily parallelized. Prior to 2017, most language models would process text one word at a time, but then a team of researchers at Google introduced a new model known as the transformer. Transformers don't read text from the start to the finish, they soak it all in at once, in parallel. The very first step inside a transformer, and most other language models for that matter, is to associate each word with a long list of numbers. The reason for this is that the training process only works with continuous values, so you have to somehow encode language using numbers, and each of these lists of numbers may somehow encode the meaning of the corresponding word. What makes transformers unique is their reliance on a special operation known as attention. This operation gives all of these lists of numbers a chance to talk to one another and refine the meanings they encode based on the context around, all done in parallel. For example, the numbers encoding the word bank might be changed based on the context surrounding it to somehow encode the more specific notion of a riverbank. Transformers typically also include a second type of operation known as a feed-forward neural network, and this gives the model extra capacity to store more patterns about language learned during training. All of this data repeatedly flows through many different iterations of these two fundamental operations, and as it does so, the hope is that each list of numbers is enriched to encode whatever information might be needed to make an accurate prediction of what word follows in the passage. At the end, one final function is performed on the last vector in this sequence, which now has had a chance to be influenced by all the other context from the input text, as well as everything the model learned during training, to produce a prediction of the next word. Again, the model's prediction looks like a probability for every possible next word. Although researchers design the framework for how each of these steps work, it's important to understand that the specific behavior is an emergent phenomenon based on how those hundreds of billions of parameters are tuned during training. This makes it incredibly challenging to determine why the model makes the exact predictions that it does. What you can see is that when you use large language model predictions to autocomplete a prompt, the words that it generates are uncannily fluent, fascinating, and even useful. If you're a new viewer and you're curious about more details on how transformers and attention work, boy do I have some material for you. One option is to jump into a series I made about deep learning, where we visualize and motivate the details of attention and all the other steps in a transformer. Also, on my second channel I just posted a talk I gave a couple months ago about this topic for the company TNG in Munich. Sometimes I actually prefer the content I make as a casual talk rather than a produced video, but I leave it up to you which one of these feels like the better follow-on.\n"
     ]
    }
   ],
   "source": [
    "video_id='LPZh9BOjkQs'\n",
    "\n",
    "try:\n",
    "    transcript_list = YouTubeTranscriptApi.get_transcript(video_id,languages=[\"en\"])\n",
    "    transcript= \" \".join(chunk[\"text\"] for chunk in transcript_list)\n",
    "    print(transcript)\n",
    "except TranscriptsDisabled as e:\n",
    "    print(e)"
   ]
  },
  {
   "cell_type": "markdown",
   "id": "1d0cfa72",
   "metadata": {},
   "source": [
    "## step 1.1 : Text Splitting"
   ]
  },
  {
   "cell_type": "code",
   "execution_count": 44,
   "id": "d232e08d",
   "metadata": {},
   "outputs": [
    {
     "data": {
      "text/plain": [
       "10"
      ]
     },
     "execution_count": 44,
     "metadata": {},
     "output_type": "execute_result"
    }
   ],
   "source": [
    "splitting=RecursiveCharacterTextSplitter(chunk_size=1000,chunk_overlap=200)\n",
    "chunks = splitting.create_documents([transcript])\n",
    "len(chunks)"
   ]
  },
  {
   "cell_type": "markdown",
   "id": "069da965",
   "metadata": {},
   "source": [
    "### step 1.2 : indexing(Embedding Generation and storing in vector store)"
   ]
  },
  {
   "cell_type": "code",
   "execution_count": 45,
   "id": "182a42c6",
   "metadata": {},
   "outputs": [],
   "source": [
    "embedding_model=HuggingFaceEmbeddings(model_name=\"sentence-transformers/all-MiniLM-L6-v2\")"
   ]
  },
  {
   "cell_type": "code",
   "execution_count": 46,
   "id": "df60b726",
   "metadata": {},
   "outputs": [],
   "source": [
    "vector_store = FAISS.from_documents(chunks,embedding_model)"
   ]
  },
  {
   "cell_type": "code",
   "execution_count": 47,
   "id": "eec04622",
   "metadata": {},
   "outputs": [
    {
     "data": {
      "text/plain": [
       "{0: '390f6497-af22-4639-8ac8-125c24c169d8',\n",
       " 1: '343f6225-65a7-427f-b532-c295bfe2d4b7',\n",
       " 2: 'f8f87704-b182-4375-86d1-9786e839226e',\n",
       " 3: 'a4d15cc5-0f59-42da-85d7-95fef276c5ba',\n",
       " 4: '477520bf-98fb-4154-a3e4-1b7bfd169f36',\n",
       " 5: 'bc044f02-d689-4931-aab4-c91d75506b27',\n",
       " 6: '4d3719f0-bf56-406c-955a-035ff06f1a5d',\n",
       " 7: 'e87df059-726c-45c7-8fc8-d6a882eab800',\n",
       " 8: '3fac5bde-a639-42f1-8c27-74fd5cbf421b',\n",
       " 9: '186f4c34-fea8-4b3e-b056-26a870cadfd3'}"
      ]
     },
     "execution_count": 47,
     "metadata": {},
     "output_type": "execute_result"
    }
   ],
   "source": [
    "vector_store.index_to_docstore_id"
   ]
  },
  {
   "cell_type": "markdown",
   "id": "af38fda6",
   "metadata": {},
   "source": [
    "## step : 2 retrieval "
   ]
  },
  {
   "cell_type": "code",
   "execution_count": 63,
   "id": "c447fb77",
   "metadata": {},
   "outputs": [],
   "source": [
    "retriever=vector_store.as_retriever(search_type=\"similarity\",search_kwargs={'k':4})"
   ]
  },
  {
   "cell_type": "markdown",
   "id": "19ee1043",
   "metadata": {},
   "source": [
    "### step 3: Augmentation \n"
   ]
  },
  {
   "cell_type": "code",
   "execution_count": 64,
   "id": "4547633f",
   "metadata": {},
   "outputs": [],
   "source": [
    "llm=ChatGroq(model=\"llama-3.1-8b-instant\",temperature=0.5)\n"
   ]
  },
  {
   "cell_type": "code",
   "execution_count": 65,
   "id": "c19fdcc3",
   "metadata": {},
   "outputs": [],
   "source": [
    "prompt=PromptTemplate(\n",
    "    template='''\n",
    "    you are a helpful assistant.\n",
    "    answer only from the provided transcript context.\n",
    "    if the context is insufficient , just say you don`t know.\n",
    "    \n",
    "    {context}\n",
    "    question:{question}\n",
    "    ''',\n",
    "    input_variables=['context','question']\n",
    ")"
   ]
  },
  {
   "cell_type": "code",
   "execution_count": 66,
   "id": "e1f55bec",
   "metadata": {},
   "outputs": [],
   "source": [
    "question          = \"is the topic of nuclear fusion discussed in this video? if yes then what was discussed\"\n",
    "retrieved_docs    = retriever.invoke(question)"
   ]
  },
  {
   "cell_type": "markdown",
   "id": "d8597e2b",
   "metadata": {},
   "source": [
    "### step 4 : generation"
   ]
  },
  {
   "cell_type": "code",
   "execution_count": 54,
   "id": "e6c5f430",
   "metadata": {},
   "outputs": [],
   "source": [
    "final_prompt=prompt.invoke({'context':context_text,'question':question})"
   ]
  },
  {
   "cell_type": "code",
   "execution_count": 55,
   "id": "fec74383",
   "metadata": {},
   "outputs": [
    {
     "data": {
      "text/plain": [
       "'The topic discussed in the video is how large language models work, specifically how they are used to build chatbots and the process of generating responses to user input.'"
      ]
     },
     "execution_count": 55,
     "metadata": {},
     "output_type": "execute_result"
    }
   ],
   "source": [
    "result=llm.invoke(final_prompt)\n",
    "result.content"
   ]
  },
  {
   "cell_type": "markdown",
   "id": "e9d2cd05",
   "metadata": {},
   "source": [
    "## Building a Chain"
   ]
  },
  {
   "cell_type": "code",
   "execution_count": 56,
   "id": "ee086ccf",
   "metadata": {},
   "outputs": [],
   "source": [
    "from langchain_core.runnables import RunnableParallel , RunnablePassthrough , RunnableLambda\n",
    "from langchain_core.output_parsers import StrOutputParser"
   ]
  },
  {
   "cell_type": "code",
   "execution_count": 71,
   "id": "4df4a448",
   "metadata": {},
   "outputs": [],
   "source": [
    "def format_docs(retriever):\n",
    "    context_text='\\n\\n'.join(doc.page_content for doc in retriever)\n",
    "    return context_text"
   ]
  },
  {
   "cell_type": "code",
   "execution_count": 72,
   "id": "ebe92d07",
   "metadata": {},
   "outputs": [],
   "source": [
    "parallel_chian = RunnableParallel({\n",
    "    'context': retriever | RunnableLambda(format_docs),\n",
    "    'question': RunnablePassthrough()                                       \n",
    "})"
   ]
  },
  {
   "cell_type": "code",
   "execution_count": 80,
   "id": "69ba0522",
   "metadata": {},
   "outputs": [
    {
     "data": {
      "text/plain": [
       "{'context': \"a standard human to read the amount of text that was used to train GPT-3, for example, if they read non-stop 24-7, it would take over 2600 years. Larger models since then train on much, much more. You can think of training a little bit like tuning the dials on a big machine. The way that a language model behaves is entirely determined by these many different continuous values, usually called parameters or weights. Changing those parameters will change the probabilities that the model gives for the next word on a given input. What puts the large in large language model is how they can have hundreds of billions of these parameters. No human ever deliberately sets those parameters. Instead, they begin at random, meaning the model just outputs gibberish, but they're repeatedly refined based on many example pieces of text. One of these training examples could be just a handful of words, or it could be thousands, but in either case, the way this works is to pass in all but the last word\\n\\nImagine you happen across a short movie script that describes a scene between a person and their AI assistant. The script has what the person asks the AI, but the AI's response has been torn off. Suppose you also have this powerful magical machine that can take any text and provide a sensible prediction of what word comes next. You could then finish the script by feeding in what you have to the machine, seeing what it would predict to start the AI's answer, and then repeating this over and over with a growing script completing the dialogue. When you interact with a chatbot, this is exactly what's happening. A large language model is a sophisticated mathematical function that predicts what word comes next for any piece of text. Instead of predicting one word with certainty, though, what it does is assign a probability to all possible next words. To build a chatbot, you lay out some text that describes an interaction between a user and a hypothetical AI assistant, add on whatever the\\n\\non many example pieces of text. One of these training examples could be just a handful of words, or it could be thousands, but in either case, the way this works is to pass in all but the last word from that example into the model and compare the prediction that it makes with the true last word from the example. An algorithm called backpropagation is used to tweak all of the parameters in such a way that it makes the model a little more likely to choose the true last word and a little less likely to choose all the others. When you do this for many, many trillions of examples, not only does the model start to give more accurate predictions on the training data, but it also starts to make more reasonable predictions on text that it's never seen before. Given the huge number of parameters and the enormous amount of training data, the scale of computation involved in training a large language model is mind-boggling. To illustrate, imagine that you could perform one billion additions and\\n\\ncalled reinforcement learning with human feedback. Workers flag unhelpful or problematic predictions, and their corrections further change the model's parameters, making them more likely to give predictions that users prefer. Looking back at the pre-training, though, this staggering amount of computation is only made possible by using special computer chips that are optimized for running many operations in parallel, known as GPUs. However, not all language models can be easily parallelized. Prior to 2017, most language models would process text one word at a time, but then a team of researchers at Google introduced a new model known as the transformer. Transformers don't read text from the start to the finish, they soak it all in at once, in parallel. The very first step inside a transformer, and most other language models for that matter, is to associate each word with a long list of numbers. The reason for this is that the training process only works with continuous values, so you\",\n",
       " 'question': 'what is large language model ?'}"
      ]
     },
     "execution_count": 80,
     "metadata": {},
     "output_type": "execute_result"
    }
   ],
   "source": [
    "parallel_chian.invoke(\"what is large language model ?\")\n"
   ]
  },
  {
   "cell_type": "code",
   "execution_count": 81,
   "id": "bb9e8662",
   "metadata": {},
   "outputs": [],
   "source": [
    "parser=StrOutputParser()"
   ]
  },
  {
   "cell_type": "code",
   "execution_count": 83,
   "id": "5b347d99",
   "metadata": {},
   "outputs": [],
   "source": [
    "main_chain = parallel_chian | prompt | llm | parser "
   ]
  },
  {
   "cell_type": "code",
   "execution_count": 84,
   "id": "53ee0aad",
   "metadata": {},
   "outputs": [
    {
     "data": {
      "text/plain": [
       "'A large language model is a sophisticated mathematical function that predicts what word comes next for any piece of text. It uses hundreds of billions of parameters, which are adjusted through a training process involving many example pieces of text.'"
      ]
     },
     "execution_count": 84,
     "metadata": {},
     "output_type": "execute_result"
    }
   ],
   "source": [
    "main_chain.invoke(\"what is large language model ?\")\n"
   ]
  },
  {
   "cell_type": "code",
   "execution_count": null,
   "id": "69187505",
   "metadata": {},
   "outputs": [],
   "source": []
  }
 ],
 "metadata": {
  "kernelspec": {
   "display_name": "Python 3",
   "language": "python",
   "name": "python3"
  },
  "language_info": {
   "codemirror_mode": {
    "name": "ipython",
    "version": 3
   },
   "file_extension": ".py",
   "mimetype": "text/x-python",
   "name": "python",
   "nbconvert_exporter": "python",
   "pygments_lexer": "ipython3",
   "version": "3.12.11"
  }
 },
 "nbformat": 4,
 "nbformat_minor": 5
}
